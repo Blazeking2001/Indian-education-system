{
 "cells": [
  {
   "cell_type": "code",
   "execution_count": 43,
   "id": "8119b2e9-4efc-4238-a8fc-5a9b928a8aff",
   "metadata": {
    "tags": []
   },
   "outputs": [],
   "source": [
    "import pandas as pd\n",
    "import numpy as np\n",
    "import matplotlib.pyplot as plt\n",
    "import seaborn as sns"
   ]
  },
  {
   "cell_type": "code",
   "execution_count": 2,
   "id": "0a1231fc-a954-4d30-bd27-bc36abc5858c",
   "metadata": {
    "tags": []
   },
   "outputs": [
    {
     "data": {
      "text/html": [
       "<div>\n",
       "<style scoped>\n",
       "    .dataframe tbody tr th:only-of-type {\n",
       "        vertical-align: middle;\n",
       "    }\n",
       "\n",
       "    .dataframe tbody tr th {\n",
       "        vertical-align: top;\n",
       "    }\n",
       "\n",
       "    .dataframe thead th {\n",
       "        text-align: right;\n",
       "    }\n",
       "</style>\n",
       "<table border=\"1\" class=\"dataframe\">\n",
       "  <thead>\n",
       "    <tr style=\"text-align: right;\">\n",
       "      <th></th>\n",
       "      <th>State_UT</th>\n",
       "      <th>year</th>\n",
       "      <th>Primary_Boys</th>\n",
       "      <th>Primary_Girls</th>\n",
       "      <th>Primary_Total</th>\n",
       "      <th>Upper Primary_Boys</th>\n",
       "      <th>Upper Primary_Girls</th>\n",
       "      <th>Upper Primary_Total</th>\n",
       "      <th>Secondary _Boys</th>\n",
       "      <th>Secondary _Girls</th>\n",
       "      <th>Secondary _Total</th>\n",
       "      <th>HrSecondary_Boys</th>\n",
       "      <th>HrSecondary_Girls</th>\n",
       "      <th>HrSecondary_Total</th>\n",
       "    </tr>\n",
       "  </thead>\n",
       "  <tbody>\n",
       "    <tr>\n",
       "      <th>0</th>\n",
       "      <td>A &amp; N Islands</td>\n",
       "      <td>2012-13</td>\n",
       "      <td>0.83</td>\n",
       "      <td>0.51</td>\n",
       "      <td>0.68</td>\n",
       "      <td>Uppe_r_Primary</td>\n",
       "      <td>1.09</td>\n",
       "      <td>1.23</td>\n",
       "      <td>5.57</td>\n",
       "      <td>5.55</td>\n",
       "      <td>5.56</td>\n",
       "      <td>17.66</td>\n",
       "      <td>10.15</td>\n",
       "      <td>14.14</td>\n",
       "    </tr>\n",
       "    <tr>\n",
       "      <th>1</th>\n",
       "      <td>A &amp; N Islands</td>\n",
       "      <td>2013-14</td>\n",
       "      <td>1.35</td>\n",
       "      <td>1.06</td>\n",
       "      <td>1.21</td>\n",
       "      <td>NR</td>\n",
       "      <td>1.54</td>\n",
       "      <td>0.51</td>\n",
       "      <td>8.36</td>\n",
       "      <td>5.98</td>\n",
       "      <td>7.2</td>\n",
       "      <td>18.94</td>\n",
       "      <td>12.2</td>\n",
       "      <td>15.87</td>\n",
       "    </tr>\n",
       "    <tr>\n",
       "      <th>2</th>\n",
       "      <td>A &amp; N Islands</td>\n",
       "      <td>2014-15</td>\n",
       "      <td>0.47</td>\n",
       "      <td>0.55</td>\n",
       "      <td>0.51</td>\n",
       "      <td>1.44</td>\n",
       "      <td>1.95</td>\n",
       "      <td>1.69</td>\n",
       "      <td>11.47</td>\n",
       "      <td>8.16</td>\n",
       "      <td>9.87</td>\n",
       "      <td>21.05</td>\n",
       "      <td>12.21</td>\n",
       "      <td>16.93</td>\n",
       "    </tr>\n",
       "    <tr>\n",
       "      <th>3</th>\n",
       "      <td>Andhra Pradesh</td>\n",
       "      <td>2012-13</td>\n",
       "      <td>3.3</td>\n",
       "      <td>3.05</td>\n",
       "      <td>3.18</td>\n",
       "      <td>3.21</td>\n",
       "      <td>3.51</td>\n",
       "      <td>3.36</td>\n",
       "      <td>12.21</td>\n",
       "      <td>13.25</td>\n",
       "      <td>12.72</td>\n",
       "      <td>2.66</td>\n",
       "      <td>NR</td>\n",
       "      <td>0.35</td>\n",
       "    </tr>\n",
       "    <tr>\n",
       "      <th>4</th>\n",
       "      <td>Andhra Pradesh</td>\n",
       "      <td>2013-14</td>\n",
       "      <td>4.31</td>\n",
       "      <td>4.39</td>\n",
       "      <td>4.35</td>\n",
       "      <td>3.46</td>\n",
       "      <td>4.12</td>\n",
       "      <td>3.78</td>\n",
       "      <td>11.95</td>\n",
       "      <td>13.37</td>\n",
       "      <td>12.65</td>\n",
       "      <td>12.65</td>\n",
       "      <td>10.85</td>\n",
       "      <td>11.79</td>\n",
       "    </tr>\n",
       "  </tbody>\n",
       "</table>\n",
       "</div>"
      ],
      "text/plain": [
       "         State_UT     year Primary_Boys Primary_Girls Primary_Total  \\\n",
       "0   A & N Islands  2012-13         0.83          0.51          0.68   \n",
       "1   A & N Islands  2013-14         1.35          1.06          1.21   \n",
       "2   A & N Islands  2014-15         0.47          0.55          0.51   \n",
       "3  Andhra Pradesh  2012-13          3.3          3.05          3.18   \n",
       "4  Andhra Pradesh  2013-14         4.31          4.39          4.35   \n",
       "\n",
       "  Upper Primary_Boys Upper Primary_Girls Upper Primary_Total Secondary _Boys  \\\n",
       "0     Uppe_r_Primary                1.09                1.23            5.57   \n",
       "1                 NR                1.54                0.51            8.36   \n",
       "2               1.44                1.95                1.69           11.47   \n",
       "3               3.21                3.51                3.36           12.21   \n",
       "4               3.46                4.12                3.78           11.95   \n",
       "\n",
       "  Secondary _Girls Secondary _Total HrSecondary_Boys HrSecondary_Girls  \\\n",
       "0             5.55             5.56            17.66             10.15   \n",
       "1             5.98              7.2            18.94              12.2   \n",
       "2             8.16             9.87            21.05             12.21   \n",
       "3            13.25            12.72             2.66                NR   \n",
       "4            13.37            12.65            12.65             10.85   \n",
       "\n",
       "  HrSecondary_Total  \n",
       "0             14.14  \n",
       "1             15.87  \n",
       "2             16.93  \n",
       "3              0.35  \n",
       "4             11.79  "
      ]
     },
     "execution_count": 2,
     "metadata": {},
     "output_type": "execute_result"
    }
   ],
   "source": [
    "dropout_data = pd.read_csv('dropout-ratio-2012-2015.csv')\n",
    "dropout_data.head()"
   ]
  },
  {
   "cell_type": "code",
   "execution_count": 4,
   "id": "a169a95f-748f-4db5-99b6-b62fd4baadcc",
   "metadata": {
    "tags": []
   },
   "outputs": [
    {
     "data": {
      "text/plain": [
       "Index(['State_UT', 'year', 'Primary_Boys', 'Primary_Girls', 'Primary_Total',\n",
       "       'Upper Primary_Boys', 'Upper Primary_Girls', 'Upper Primary_Total',\n",
       "       'Secondary _Boys', 'Secondary _Girls', 'Secondary _Total',\n",
       "       'HrSecondary_Boys', 'HrSecondary_Girls', 'HrSecondary_Total'],\n",
       "      dtype='object')"
      ]
     },
     "execution_count": 4,
     "metadata": {},
     "output_type": "execute_result"
    }
   ],
   "source": [
    "dropout_data.columns"
   ]
  },
  {
   "cell_type": "code",
   "execution_count": 8,
   "id": "7ceb0e2a-baa1-4952-8f8f-64dd7d080895",
   "metadata": {
    "tags": []
   },
   "outputs": [
    {
     "data": {
      "text/plain": [
       "State_UT               0\n",
       "year                   0\n",
       "Primary_Boys           0\n",
       "Primary_Girls          0\n",
       "Primary_Total          0\n",
       "Upper Primary_Boys     0\n",
       "Upper Primary_Girls    0\n",
       "Upper Primary_Total    0\n",
       "Secondary _Boys        0\n",
       "Secondary _Girls       0\n",
       "Secondary _Total       0\n",
       "HrSecondary_Boys       0\n",
       "HrSecondary_Girls      0\n",
       "HrSecondary_Total      0\n",
       "dtype: int64"
      ]
     },
     "execution_count": 8,
     "metadata": {},
     "output_type": "execute_result"
    }
   ],
   "source": [
    "dropout_data.isna().sum()"
   ]
  },
  {
   "cell_type": "code",
   "execution_count": 12,
   "id": "317a3541-46ec-4446-be37-769d06482c39",
   "metadata": {
    "tags": []
   },
   "outputs": [
    {
     "data": {
      "text/html": [
       "<div>\n",
       "<style scoped>\n",
       "    .dataframe tbody tr th:only-of-type {\n",
       "        vertical-align: middle;\n",
       "    }\n",
       "\n",
       "    .dataframe tbody tr th {\n",
       "        vertical-align: top;\n",
       "    }\n",
       "\n",
       "    .dataframe thead th {\n",
       "        text-align: right;\n",
       "    }\n",
       "</style>\n",
       "<table border=\"1\" class=\"dataframe\">\n",
       "  <thead>\n",
       "    <tr style=\"text-align: right;\">\n",
       "      <th></th>\n",
       "      <th>State_UT</th>\n",
       "      <th>year</th>\n",
       "      <th>Primary_Boys</th>\n",
       "      <th>Primary_Girls</th>\n",
       "      <th>Primary_Total</th>\n",
       "      <th>Upper Primary_Boys</th>\n",
       "      <th>Upper Primary_Girls</th>\n",
       "      <th>Upper Primary_Total</th>\n",
       "      <th>Secondary _Boys</th>\n",
       "      <th>Secondary _Girls</th>\n",
       "      <th>Secondary _Total</th>\n",
       "      <th>HrSecondary_Boys</th>\n",
       "      <th>HrSecondary_Girls</th>\n",
       "      <th>HrSecondary_Total</th>\n",
       "    </tr>\n",
       "  </thead>\n",
       "  <tbody>\n",
       "    <tr>\n",
       "      <th>104</th>\n",
       "      <td>West Bengal</td>\n",
       "      <td>2012-13</td>\n",
       "      <td>6.88</td>\n",
       "      <td>5.71</td>\n",
       "      <td>6.3</td>\n",
       "      <td>6.29</td>\n",
       "      <td>4.16</td>\n",
       "      <td>5.18</td>\n",
       "      <td>14.95</td>\n",
       "      <td>19.41</td>\n",
       "      <td>17.3</td>\n",
       "      <td>7.81</td>\n",
       "      <td>8.49</td>\n",
       "      <td>8.13</td>\n",
       "    </tr>\n",
       "    <tr>\n",
       "      <th>105</th>\n",
       "      <td>West Bengal</td>\n",
       "      <td>2013-14</td>\n",
       "      <td>3.44</td>\n",
       "      <td>2.37</td>\n",
       "      <td>2.91</td>\n",
       "      <td>5.63</td>\n",
       "      <td>3.1</td>\n",
       "      <td>4.31</td>\n",
       "      <td>16.73</td>\n",
       "      <td>19.77</td>\n",
       "      <td>18.34</td>\n",
       "      <td>8.03</td>\n",
       "      <td>7.76</td>\n",
       "      <td>7.9</td>\n",
       "    </tr>\n",
       "    <tr>\n",
       "      <th>106</th>\n",
       "      <td>West Bengal</td>\n",
       "      <td>2014-15</td>\n",
       "      <td>2.13</td>\n",
       "      <td>0.79</td>\n",
       "      <td>1.47</td>\n",
       "      <td>5.84</td>\n",
       "      <td>2.88</td>\n",
       "      <td>4.3</td>\n",
       "      <td>16.33</td>\n",
       "      <td>19.06</td>\n",
       "      <td>17.8</td>\n",
       "      <td>8.18</td>\n",
       "      <td>8.04</td>\n",
       "      <td>8.11</td>\n",
       "    </tr>\n",
       "  </tbody>\n",
       "</table>\n",
       "</div>"
      ],
      "text/plain": [
       "        State_UT     year Primary_Boys Primary_Girls Primary_Total  \\\n",
       "104  West Bengal  2012-13         6.88          5.71           6.3   \n",
       "105  West Bengal  2013-14         3.44          2.37          2.91   \n",
       "106  West Bengal  2014-15         2.13          0.79          1.47   \n",
       "\n",
       "    Upper Primary_Boys Upper Primary_Girls Upper Primary_Total  \\\n",
       "104               6.29                4.16                5.18   \n",
       "105               5.63                 3.1                4.31   \n",
       "106               5.84                2.88                 4.3   \n",
       "\n",
       "    Secondary _Boys Secondary _Girls Secondary _Total HrSecondary_Boys  \\\n",
       "104           14.95            19.41             17.3             7.81   \n",
       "105           16.73            19.77            18.34             8.03   \n",
       "106           16.33            19.06             17.8             8.18   \n",
       "\n",
       "    HrSecondary_Girls HrSecondary_Total  \n",
       "104              8.49              8.13  \n",
       "105              7.76               7.9  \n",
       "106              8.04              8.11  "
      ]
     },
     "execution_count": 12,
     "metadata": {},
     "output_type": "execute_result"
    }
   ],
   "source": [
    "data_wb = dropout_data[dropout_data['State_UT'] == 'West Bengal']\n",
    "data_wb"
   ]
  },
  {
   "cell_type": "code",
   "execution_count": 13,
   "id": "e1dd7909-d747-4544-b598-be6834acdbfb",
   "metadata": {
    "tags": []
   },
   "outputs": [
    {
     "data": {
      "text/plain": [
       "{'A & N Islands': [0, 1, 2], 'All India': [107, 108, 109], 'Andhra Pradesh': [3, 4, 5], 'Arunachal  Pradesh': [6], 'Arunachal Pradesh': [7, 8], 'Assam': [9, 10, 11], 'Bihar': [12, 13, 14], 'Chandigarh': [15, 16, 17], 'Chhattisgarh': [18, 19, 20], 'Dadra & Nagar Haveli': [21, 22, 23], 'Daman & Diu': [24, 25, 26], 'Delhi': [27, 28, 29], 'Goa': [30, 31, 32], 'Gujarat': [33, 34, 35], 'Haryana': [36, 37, 38], 'Himachal Pradesh': [39, 40, 41], 'Jammu & Kashmir': [42, 43, 44], 'Jharkhand': [45, 46, 47], 'Karnataka': [48, 49, 50], 'Kerala': [51, 52, 53], 'Lakshadweep': [54, 55, 56], 'Madhya  Pradesh': [57], 'Madhya Pradesh': [58, 59], 'Maharashtra': [60, 61, 62], 'Manipur': [63, 64, 65], 'Meghalaya': [66, 67, 68], 'Mizoram': [69, 70, 71], 'Nagaland': [72, 73, 74], 'Odisha': [75, 76, 77], 'Puducherry': [78, 79, 80], 'Punjab': [81, 82, 83], 'Rajasthan': [84, 85, 86], 'Sikkim': [87, 88, 89], 'Tamil  Nadu': [90], 'Tamil Nadu': [91, 92], 'Telangana': [93, 94], 'Tripura': [95, 96, 97], 'Uttar Pradesh': [98, 99, 100], 'Uttarakhand': [101, 102, 103], 'West Bengal': [104, 105, 106]}"
      ]
     },
     "execution_count": 13,
     "metadata": {},
     "output_type": "execute_result"
    }
   ],
   "source": [
    "dropout_data.groupby('State_UT').groups"
   ]
  },
  {
   "cell_type": "code",
   "execution_count": 14,
   "id": "5dcbc069-ed27-4ff4-be0e-eedc9b4ee839",
   "metadata": {
    "tags": []
   },
   "outputs": [
    {
     "data": {
      "text/plain": [
       "array(['0.83', '1.35', '0.47', '3.3', '4.31', '6.57', '11.54', '15.84',\n",
       "       '11.51', '7.02', '8.19', '16.07', 'NR', '2.38', '0.35', 'NR', 'NR',\n",
       "       'NR', '4.24', '1.45', '3.08', 'NR', '1.05', '1.6', 'NR', '1.06',\n",
       "       '1.8', 'NR', 'NR', 'NR', 'NR', '0.08', '0.63', '0.21', '0.5',\n",
       "       '0.82', '1.48', '0.22', '5.54', '0.51', '0.57', '0.46', '6.8',\n",
       "       '5.53', '6.98', '7.36', '6.89', '5.91', '3.4', '2.42', '2.03',\n",
       "       'NR', 'NR', 'NR', '2.3', '0', 'NR', '5.75', '9.91', '6.48', '0.88',\n",
       "       '0.51', '1.26', '10.24', '17.27', '9.5', '11.32', '11.3', '10.35',\n",
       "       '24.27', '12.57', '10.17', '7.11', '19.09', '6.18', '3.63', '2.83',\n",
       "       '2.91', '0.25', '0.76', '0.36', '1.99', '1.35', '2.89', '7.2',\n",
       "       '7.76', '5.02', '4.78', '5.55', '3.75', '4.02', '0.53', 'NR',\n",
       "       '6.04', '2.21', '2.31', '3.63', '1.37', '10.53', '7.91', '9.08',\n",
       "       '1.14', '3.28', '4.37', '6.88', '3.44', '2.13', '4.68', '4.53',\n",
       "       '4.36'], dtype=object)"
      ]
     },
     "execution_count": 14,
     "metadata": {},
     "output_type": "execute_result"
    }
   ],
   "source": [
    "dropout_data['Primary_Boys'].values"
   ]
  },
  {
   "cell_type": "code",
   "execution_count": 16,
   "id": "cf5c89c6-0d2c-46b1-b126-98fb272de40e",
   "metadata": {
    "tags": []
   },
   "outputs": [],
   "source": [
    "dropout_data = dropout_data.replace('NR', 0)"
   ]
  },
  {
   "cell_type": "code",
   "execution_count": 17,
   "id": "16e0711f-9c82-4445-8e68-27f53861bf35",
   "metadata": {
    "tags": []
   },
   "outputs": [],
   "source": [
    "dropout_data['Primary_Boys']=dropout_data['Primary_Boys'].apply(lambda x: float(x))"
   ]
  },
  {
   "cell_type": "code",
   "execution_count": 25,
   "id": "e8629f51-f8d6-4206-9667-d8a8434c7737",
   "metadata": {
    "tags": []
   },
   "outputs": [
    {
     "data": {
      "text/plain": [
       "array(['Uppe_r_Primary', 0, '1.44', '3.21', '3.46', '5.09', '4.44',\n",
       "       '5.86', '5.31', '7.89', '7.6', '10.45', 0, '2.77', '4.14', 0,\n",
       "       '0.72', '0.01', '6.09', '4.09', '6.47', '2.59', '3.31', '3.7', 0,\n",
       "       '3.42', '3.14', 0, '3.13', '0.95', 0, 0, 0, '2.75', '3.52', '4.65',\n",
       "       '0.18', '1.97', '5.5', '0.52', '0.6', '0.5', '5.51', '3.86',\n",
       "       '4.98', '4.99', '7.19', '9.01', '4.96', '2.31', '3.46', 0, 0, 0,\n",
       "       '0.97', '1.16', '2.37', '6.79', '9.88', '7.78', '0.89', 0, '0.89',\n",
       "       '5.48', '7.48', '3.61', '8.43', '6.34', '6.77', '19.35', '6.61',\n",
       "       '5.46', '10.15', '18.08', '7.87', '4.1', '3.11', '4.11', '0.33',\n",
       "       '0.37', '0.44', '2.58', '2.52', '2.95', '2.86', '4.49', '2.54',\n",
       "       '2.6', '6.35', '2.07', '0.38', '4.38', 0, '4.63', '2.43', '3.1',\n",
       "       '3.21', '2.37', 0, 0, '0.78', 0, '1.78', '0.79', '6.29', '5.63',\n",
       "       '5.84', '2.3', '3.09', '3.49'], dtype=object)"
      ]
     },
     "execution_count": 25,
     "metadata": {},
     "output_type": "execute_result"
    }
   ],
   "source": [
    "dropout_data['Upper Primary_Boys'].values"
   ]
  },
  {
   "cell_type": "code",
   "execution_count": 30,
   "id": "5cd6e702-cf18-4b0e-a0f9-093b1b8fecae",
   "metadata": {
    "tags": []
   },
   "outputs": [],
   "source": [
    "dropout_data = dropout_data.replace('Uppe_r_Primary', 0)"
   ]
  },
  {
   "cell_type": "code",
   "execution_count": 39,
   "id": "77adde76-668d-4df3-90c3-a1ec8091da50",
   "metadata": {
    "tags": []
   },
   "outputs": [],
   "source": [
    "dropout_data['Upper Primary_Boys']=dropout_data['Upper Primary_Boys'].values.astype(np.float32)\n",
    "dropout_data['Upper Primary_Girls']=dropout_data['Upper Primary_Girls'].values.astype(np.float32)"
   ]
  },
  {
   "cell_type": "code",
   "execution_count": 41,
   "id": "795ffefc-e3a3-4722-80f1-19c1af93246a",
   "metadata": {
    "tags": []
   },
   "outputs": [],
   "source": [
    "dropout_data['Secondary _Boys']=dropout_data['Secondary _Boys'].values.astype(np.float32)\n",
    "dropout_data['Secondary _Girls']=dropout_data['Secondary _Girls'].values.astype(np.float32)"
   ]
  },
  {
   "cell_type": "code",
   "execution_count": 42,
   "id": "780aa8a9-26f7-4fe0-923d-75bc76e0af63",
   "metadata": {
    "tags": []
   },
   "outputs": [],
   "source": [
    "dropout_data['HrSecondary_Boys']=dropout_data['HrSecondary_Boys'].values.astype(np.float32)\n",
    "dropout_data['HrSecondary_Girls']=dropout_data['HrSecondary_Girls'].values.astype(np.float32)"
   ]
  },
  {
   "cell_type": "code",
   "execution_count": 44,
   "id": "97412834-255a-446f-8803-9620e74a66d2",
   "metadata": {
    "tags": []
   },
   "outputs": [
    {
     "name": "stdout",
     "output_type": "stream",
     "text": [
      "<class 'pandas.core.frame.DataFrame'>\n",
      "RangeIndex: 110 entries, 0 to 109\n",
      "Data columns (total 14 columns):\n",
      " #   Column               Non-Null Count  Dtype  \n",
      "---  ------               --------------  -----  \n",
      " 0   State_UT             110 non-null    object \n",
      " 1   year                 110 non-null    object \n",
      " 2   Primary_Boys         110 non-null    float64\n",
      " 3   Primary_Girls        110 non-null    float32\n",
      " 4   Primary_Total        110 non-null    object \n",
      " 5   Upper Primary_Boys   110 non-null    float32\n",
      " 6   Upper Primary_Girls  110 non-null    float32\n",
      " 7   Upper Primary_Total  110 non-null    object \n",
      " 8   Secondary _Boys      110 non-null    float32\n",
      " 9   Secondary _Girls     110 non-null    float32\n",
      " 10  Secondary _Total     110 non-null    object \n",
      " 11  HrSecondary_Boys     110 non-null    float32\n",
      " 12  HrSecondary_Girls    110 non-null    float32\n",
      " 13  HrSecondary_Total    110 non-null    object \n",
      "dtypes: float32(7), float64(1), object(6)\n",
      "memory usage: 9.1+ KB\n"
     ]
    }
   ],
   "source": [
    "dropout_data.info()"
   ]
  },
  {
   "cell_type": "code",
   "execution_count": 49,
   "id": "aae0db71-7601-479c-beb2-f8edd41db423",
   "metadata": {
    "tags": []
   },
   "outputs": [
    {
     "name": "stdout",
     "output_type": "stream",
     "text": [
      "['2012-13' '2013-14' '2014-15']\n"
     ]
    }
   ],
   "source": [
    "years = data_wb['year'].values;\n",
    "print(years)"
   ]
  },
  {
   "cell_type": "code",
   "execution_count": 57,
   "id": "ea3071a5-7cd0-4a15-a1fb-14cd78777291",
   "metadata": {
    "tags": []
   },
   "outputs": [
    {
     "data": {
      "text/html": [
       "<div>\n",
       "<style scoped>\n",
       "    .dataframe tbody tr th:only-of-type {\n",
       "        vertical-align: middle;\n",
       "    }\n",
       "\n",
       "    .dataframe tbody tr th {\n",
       "        vertical-align: top;\n",
       "    }\n",
       "\n",
       "    .dataframe thead th {\n",
       "        text-align: right;\n",
       "    }\n",
       "</style>\n",
       "<table border=\"1\" class=\"dataframe\">\n",
       "  <thead>\n",
       "    <tr style=\"text-align: right;\">\n",
       "      <th></th>\n",
       "      <th>State_UT</th>\n",
       "      <th>year</th>\n",
       "      <th>Primary_Boys</th>\n",
       "      <th>Primary_Girls</th>\n",
       "      <th>Primary_Total</th>\n",
       "      <th>Upper Primary_Boys</th>\n",
       "      <th>Upper Primary_Girls</th>\n",
       "      <th>Upper Primary_Total</th>\n",
       "      <th>Secondary _Boys</th>\n",
       "      <th>Secondary _Girls</th>\n",
       "      <th>Secondary _Total</th>\n",
       "      <th>HrSecondary_Boys</th>\n",
       "      <th>HrSecondary_Girls</th>\n",
       "      <th>HrSecondary_Total</th>\n",
       "    </tr>\n",
       "  </thead>\n",
       "  <tbody>\n",
       "    <tr>\n",
       "      <th>104</th>\n",
       "      <td>West Bengal</td>\n",
       "      <td>2012-13</td>\n",
       "      <td>6.88</td>\n",
       "      <td>5.71</td>\n",
       "      <td>6.3</td>\n",
       "      <td>6.29</td>\n",
       "      <td>4.16</td>\n",
       "      <td>5.18</td>\n",
       "      <td>14.95</td>\n",
       "      <td>19.41</td>\n",
       "      <td>17.3</td>\n",
       "      <td>7.81</td>\n",
       "      <td>8.49</td>\n",
       "      <td>8.13</td>\n",
       "    </tr>\n",
       "    <tr>\n",
       "      <th>105</th>\n",
       "      <td>West Bengal</td>\n",
       "      <td>2013-14</td>\n",
       "      <td>3.44</td>\n",
       "      <td>2.37</td>\n",
       "      <td>2.91</td>\n",
       "      <td>5.63</td>\n",
       "      <td>3.1</td>\n",
       "      <td>4.31</td>\n",
       "      <td>16.73</td>\n",
       "      <td>19.77</td>\n",
       "      <td>18.34</td>\n",
       "      <td>8.03</td>\n",
       "      <td>7.76</td>\n",
       "      <td>7.9</td>\n",
       "    </tr>\n",
       "    <tr>\n",
       "      <th>106</th>\n",
       "      <td>West Bengal</td>\n",
       "      <td>2014-15</td>\n",
       "      <td>2.13</td>\n",
       "      <td>0.79</td>\n",
       "      <td>1.47</td>\n",
       "      <td>5.84</td>\n",
       "      <td>2.88</td>\n",
       "      <td>4.3</td>\n",
       "      <td>16.33</td>\n",
       "      <td>19.06</td>\n",
       "      <td>17.8</td>\n",
       "      <td>8.18</td>\n",
       "      <td>8.04</td>\n",
       "      <td>8.11</td>\n",
       "    </tr>\n",
       "  </tbody>\n",
       "</table>\n",
       "</div>"
      ],
      "text/plain": [
       "        State_UT     year Primary_Boys Primary_Girls Primary_Total  \\\n",
       "104  West Bengal  2012-13         6.88          5.71           6.3   \n",
       "105  West Bengal  2013-14         3.44          2.37          2.91   \n",
       "106  West Bengal  2014-15         2.13          0.79          1.47   \n",
       "\n",
       "    Upper Primary_Boys Upper Primary_Girls Upper Primary_Total  \\\n",
       "104               6.29                4.16                5.18   \n",
       "105               5.63                 3.1                4.31   \n",
       "106               5.84                2.88                 4.3   \n",
       "\n",
       "    Secondary _Boys Secondary _Girls Secondary _Total HrSecondary_Boys  \\\n",
       "104           14.95            19.41             17.3             7.81   \n",
       "105           16.73            19.77            18.34             8.03   \n",
       "106           16.33            19.06             17.8             8.18   \n",
       "\n",
       "    HrSecondary_Girls HrSecondary_Total  \n",
       "104              8.49              8.13  \n",
       "105              7.76               7.9  \n",
       "106              8.04              8.11  "
      ]
     },
     "execution_count": 57,
     "metadata": {},
     "output_type": "execute_result"
    }
   ],
   "source": [
    "data_wb.head()"
   ]
  },
  {
   "cell_type": "code",
   "execution_count": 65,
   "id": "72c20d83-cd7a-4c39-a4b0-267e9620eafd",
   "metadata": {
    "tags": []
   },
   "outputs": [
    {
     "data": {
      "image/png": "[encoded data removed]",
      "text/plain": [
       "<Figure size 600x400 with 1 Axes>"
      ]
     },
     "metadata": {},
     "output_type": "display_data"
    }
   ],
   "source": [
    "plt.figure(figsize=(6,4))\n",
    "plt.bar(data_wb['Primary_Girls'], data_wb['year'] )\n",
    "plt.xlabel('Primary_Girls')\n",
    "plt.ylabel('Year')\n",
    "plt.title('Year basis Primary_Girls ratio in west bengal')\n",
    "plt.show()"
   ]
  },
  {
   "cell_type": "code",
   "execution_count": 66,
   "id": "81c8cd71-0fe0-4e15-8bd1-16e7a9aea6e9",
   "metadata": {
    "tags": []
   },
   "outputs": [
    {
     "data": {
      "image/png": "[encoded data removed]",
      "text/plain": [
       "<Figure size 600x400 with 1 Axes>"
      ]
     },
     "metadata": {},
     "output_type": "display_data"
    }
   ],
   "source": [
    "plt.figure(figsize=(6,4))\n",
    "plt.bar(dropout_data['Secondary _Girls'], dropout_data['year'] )\n",
    "plt.xlabel('Secondary _Girls')\n",
    "plt.ylabel('Year')\n",
    "plt.title('Year basis Secondary _Girls ratio')\n",
    "plt.show()"
   ]
  },
  {
   "cell_type": "code",
   "execution_count": 70,
   "id": "1a0ddc28-79aa-42b2-b366-80fddda158af",
   "metadata": {
    "tags": []
   },
   "outputs": [
    {
     "data": {
      "image/png": "[encoded data removed]",
      "text/plain": [
       "<Figure size 600x400 with 1 Axes>"
      ]
     },
     "metadata": {},
     "output_type": "display_data"
    }
   ],
   "source": [
    "plt.figure(figsize=(6,4))\n",
    "plt.bar(dropout_data['Primary_Boys'], dropout_data['year'] )\n",
    "plt.xlabel('Primary Boys')\n",
    "plt.ylabel('Year')\n",
    "plt.title('Year basis primary boys ratio')\n",
    "plt.show()"
   ]
  },
  {
   "cell_type": "code",
   "execution_count": 75,
   "id": "847a463a-1f2b-4083-b07a-8566e27e6c5b",
   "metadata": {
    "tags": []
   },
   "outputs": [
    {
     "data": {
      "image/png": "[encoded data removed]",
      "text/plain": [
       "<Figure size 600x400 with 1 Axes>"
      ]
     },
     "metadata": {},
     "output_type": "display_data"
    }
   ],
   "source": [
    "plt.figure(figsize=(6,4))\n",
    "plt.bar(data_wb['Upper Primary_Girls'],data_wb['year'] )\n",
    "plt.xlabel('Upper Primary_Girls')\n",
    "plt.ylabel('year')\n",
    "plt.title('Upper Primary_Girls ratio vs year ')\n",
    "plt.show()"
   ]
  },
  {
   "cell_type": "code",
   "execution_count": 78,
   "id": "21332b06-3770-4b53-8c84-a9341113e011",
   "metadata": {
    "tags": []
   },
   "outputs": [
    {
     "data": {
      "text/plain": [
       "(array([52., 25., 18., 11.,  3.,  0.,  0.,  0.,  0.,  1.]),\n",
       " array([ 0.        ,  3.60500002,  7.21000004, 10.81499958, 14.42000008,\n",
       "        18.02499962, 21.62999916, 25.2349987 , 28.84000015, 32.44499969,\n",
       "        36.04999924]),\n",
       " <BarContainer object of 10 artists>)"
      ]
     },
     "execution_count": 78,
     "metadata": {},
     "output_type": "execute_result"
    },
    {
     "data": {
      "image/png": "[encoded data removed]",
      "text/plain": [
       "<Figure size 600x400 with 1 Axes>"
      ]
     },
     "metadata": {},
     "output_type": "display_data"
    }
   ],
   "source": [
    "plt.figure(figsize=(6,4))\n",
    "plt.hist(dropout_data['HrSecondary_Girls'])"
   ]
  },
  {
   "cell_type": "code",
   "execution_count": 80,
   "id": "02d395d5-b7ce-4062-922b-dc6974571c1b",
   "metadata": {
    "tags": []
   },
   "outputs": [
    {
     "data": {
      "text/plain": [
       "Index(['State_UT', 'year', 'Primary_Boys', 'Primary_Girls', 'Primary_Total',\n",
       "       'Upper Primary_Boys', 'Upper Primary_Girls', 'Upper Primary_Total',\n",
       "       'Secondary _Boys', 'Secondary _Girls', 'Secondary _Total',\n",
       "       'HrSecondary_Boys', 'HrSecondary_Girls', 'HrSecondary_Total'],\n",
       "      dtype='object')"
      ]
     },
     "execution_count": 80,
     "metadata": {},
     "output_type": "execute_result"
    }
   ],
   "source": [
    "dropout_data.columns"
   ]
  },
  {
   "cell_type": "code",
   "execution_count": 89,
   "id": "c5df8445-7bb7-421c-b3c0-e2193c2765a0",
   "metadata": {
    "tags": []
   },
   "outputs": [
    {
     "data": {
      "text/plain": [
       "<AxesSubplot: >"
      ]
     },
     "execution_count": 89,
     "metadata": {},
     "output_type": "execute_result"
    },
    {
     "data": {
      "image/png": "[encoded data removed]",
      "text/plain": [
       "<Figure size 2000x1500 with 6 Axes>"
      ]
     },
     "metadata": {},
     "output_type": "display_data"
    }
   ],
   "source": [
    "plt.figure(figsize= (20,15))\n",
    "plt.subplot(4,4,1)\n",
    "sns.boxplot(dropout_data['HrSecondary_Girls'])\n",
    "\n",
    "plt.subplot(4,4,2)\n",
    "sns.boxplot(dropout_data['HrSecondary_Boys'])\n",
    "\n",
    "plt.subplot(4,4,3)\n",
    "sns.boxplot(dropout_data['Upper Primary_Boys'])\n",
    "\n",
    "plt.subplot(4,4,4)\n",
    "sns.boxplot(dropout_data['Upper Primary_Girls'])\n",
    "\n",
    "plt.subplot(4,4,5)\n",
    "sns.boxplot(dropout_data['Secondary _Girls'])\n",
    "\n",
    "plt.subplot(4,4,6)\n",
    "sns.boxplot(dropout_data['Secondary _Boys'])"
   ]
  },
  {
   "cell_type": "code",
   "execution_count": 85,
   "id": "d491a0d2-77ae-4a31-8362-d5bea03089c2",
   "metadata": {
    "tags": []
   },
   "outputs": [],
   "source": [
    "dropout_data['HrSecondary_Girls']=dropout_data['HrSecondary_Girls'].clip(lower=dropout_data['HrSecondary_Girls'].quantile(0.05), upper=dropout_data['HrSecondary_Girls'].quantile(0.95))\n",
    "\n",
    "dropout_data['HrSecondary_Boys']=dropout_data['HrSecondary_Boys'].clip(lower=dropout_data['HrSecondary_Boys'].quantile(0.05), upper=dropout_data['HrSecondary_Boys'].quantile(0.95))\n",
    "\n",
    "dropout_data['Upper Primary_Boys']=dropout_data['Upper Primary_Boys'].clip(lower=dropout_data['Upper Primary_Boys'].quantile(0.05), upper=dropout_data['Upper Primary_Boys'].quantile(0.95))\n",
    "\n",
    "dropout_data['Upper Primary_Girls']=dropout_data['Upper Primary_Girls'].clip(lower=dropout_data['Upper Primary_Girls'].quantile(0.05), upper=dropout_data['Upper Primary_Girls'].quantile(0.95))\n",
    "\n",
    "dropout_data['Secondary _Girls']=dropout_data['Secondary _Girls'].clip(lower=dropout_data['Secondary _Girls'].quantile(0.05), upper=dropout_data['Secondary _Girls'].quantile(0.95))\n",
    "\n",
    "dropout_data['Secondary _Boys']=dropout_data['Secondary _Boys'].clip(lower=dropout_data['Secondary _Boys'].quantile(0.05), upper=dropout_data['Secondary _Boys'].quantile(0.95))"
   ]
  },
  {
   "cell_type": "code",
   "execution_count": 87,
   "id": "7ff1d6df-6516-447d-96a5-3ba7b8a71c5d",
   "metadata": {
    "tags": []
   },
   "outputs": [
    {
     "data": {
      "text/plain": [
       "<AxesSubplot: >"
      ]
     },
     "execution_count": 87,
     "metadata": {},
     "output_type": "execute_result"
    },
    {
     "data": {
      "image/png": "[encoded data removed]",
      "text/plain": [
       "<Figure size 2000x1500 with 6 Axes>"
      ]
     },
     "metadata": {},
     "output_type": "display_data"
    }
   ],
   "source": [
    "plt.figure(figsize= (20,15))\n",
    "plt.subplot(4,4,1)\n",
    "sns.boxplot(dropout_data['HrSecondary_Girls'])\n",
    "\n",
    "plt.subplot(4,4,2)\n",
    "sns.boxplot(dropout_data['HrSecondary_Boys'])\n",
    "\n",
    "plt.subplot(4,4,3)\n",
    "sns.boxplot(dropout_data['Upper Primary_Boys'])\n",
    "\n",
    "plt.subplot(4,4,4)\n",
    "sns.boxplot(dropout_data['Upper Primary_Girls'])\n",
    "\n",
    "plt.subplot(4,4,5)\n",
    "sns.boxplot(dropout_data['Secondary _Girls'])\n",
    "\n",
    "plt.subplot(4,4,6)\n",
    "sns.boxplot(dropout_data['Secondary _Boys'])"
   ]
  },
  {
   "cell_type": "code",
   "execution_count": 92,
   "id": "03003b48-af04-457d-b938-cf79e974b5f3",
   "metadata": {
    "tags": []
   },
   "outputs": [
    {
     "data": {
      "text/html": [
       "<div>\n",
       "<style scoped>\n",
       "    .dataframe tbody tr th:only-of-type {\n",
       "        vertical-align: middle;\n",
       "    }\n",
       "\n",
       "    .dataframe tbody tr th {\n",
       "        vertical-align: top;\n",
       "    }\n",
       "\n",
       "    .dataframe thead th {\n",
       "        text-align: right;\n",
       "    }\n",
       "</style>\n",
       "<table border=\"1\" class=\"dataframe\">\n",
       "  <thead>\n",
       "    <tr style=\"text-align: right;\">\n",
       "      <th></th>\n",
       "      <th>State_UT</th>\n",
       "      <th>year</th>\n",
       "      <th>Primary_Only</th>\n",
       "      <th>Primary_with_U_Primary</th>\n",
       "      <th>Primary_with_U_Primary_Sec_HrSec</th>\n",
       "      <th>U_Primary_Only</th>\n",
       "      <th>U_Primary_With_Sec_HrSec</th>\n",
       "      <th>Primary_with_U_Primary_Sec</th>\n",
       "      <th>U_Primary_With_Sec</th>\n",
       "      <th>Sec_Only</th>\n",
       "      <th>Sec_with_HrSec.</th>\n",
       "      <th>HrSec_Only</th>\n",
       "      <th>All Schools</th>\n",
       "    </tr>\n",
       "  </thead>\n",
       "  <tbody>\n",
       "    <tr>\n",
       "      <th>0</th>\n",
       "      <td>Andaman &amp; Nicobar Islands</td>\n",
       "      <td>2013-14</td>\n",
       "      <td>91.58</td>\n",
       "      <td>97.37</td>\n",
       "      <td>100.00</td>\n",
       "      <td>0.00</td>\n",
       "      <td>100.00</td>\n",
       "      <td>100.00</td>\n",
       "      <td>0.00</td>\n",
       "      <td>0.00</td>\n",
       "      <td>100.00</td>\n",
       "      <td>0.00</td>\n",
       "      <td>94.52</td>\n",
       "    </tr>\n",
       "    <tr>\n",
       "      <th>1</th>\n",
       "      <td>Andaman &amp; Nicobar Islands</td>\n",
       "      <td>2014-15</td>\n",
       "      <td>100.00</td>\n",
       "      <td>100.00</td>\n",
       "      <td>100.00</td>\n",
       "      <td>100.00</td>\n",
       "      <td>100.00</td>\n",
       "      <td>100.00</td>\n",
       "      <td>0.00</td>\n",
       "      <td>0.00</td>\n",
       "      <td>100.00</td>\n",
       "      <td>0.00</td>\n",
       "      <td>100.00</td>\n",
       "    </tr>\n",
       "    <tr>\n",
       "      <th>2</th>\n",
       "      <td>Andaman &amp; Nicobar Islands</td>\n",
       "      <td>2015-16</td>\n",
       "      <td>100.00</td>\n",
       "      <td>100.00</td>\n",
       "      <td>100.00</td>\n",
       "      <td>0.00</td>\n",
       "      <td>100.00</td>\n",
       "      <td>100.00</td>\n",
       "      <td>0.00</td>\n",
       "      <td>0.00</td>\n",
       "      <td>100.00</td>\n",
       "      <td>0.00</td>\n",
       "      <td>100.00</td>\n",
       "    </tr>\n",
       "    <tr>\n",
       "      <th>3</th>\n",
       "      <td>Andhra Pradesh</td>\n",
       "      <td>2013-14</td>\n",
       "      <td>53.03</td>\n",
       "      <td>62.58</td>\n",
       "      <td>82.05</td>\n",
       "      <td>45.45</td>\n",
       "      <td>64.11</td>\n",
       "      <td>76.24</td>\n",
       "      <td>60.63</td>\n",
       "      <td>59.26</td>\n",
       "      <td>85.71</td>\n",
       "      <td>73.44</td>\n",
       "      <td>56.88</td>\n",
       "    </tr>\n",
       "    <tr>\n",
       "      <th>4</th>\n",
       "      <td>Andhra Pradesh</td>\n",
       "      <td>2014-15</td>\n",
       "      <td>57.91</td>\n",
       "      <td>76.51</td>\n",
       "      <td>96.00</td>\n",
       "      <td>75.00</td>\n",
       "      <td>93.33</td>\n",
       "      <td>91.43</td>\n",
       "      <td>77.99</td>\n",
       "      <td>80.65</td>\n",
       "      <td>60.00</td>\n",
       "      <td>86.54</td>\n",
       "      <td>65.34</td>\n",
       "    </tr>\n",
       "  </tbody>\n",
       "</table>\n",
       "</div>"
      ],
      "text/plain": [
       "                    State_UT     year  Primary_Only  Primary_with_U_Primary  \\\n",
       "0  Andaman & Nicobar Islands  2013-14         91.58                   97.37   \n",
       "1  Andaman & Nicobar Islands  2014-15        100.00                  100.00   \n",
       "2  Andaman & Nicobar Islands  2015-16        100.00                  100.00   \n",
       "3             Andhra Pradesh  2013-14         53.03                   62.58   \n",
       "4             Andhra Pradesh  2014-15         57.91                   76.51   \n",
       "\n",
       "   Primary_with_U_Primary_Sec_HrSec  U_Primary_Only  U_Primary_With_Sec_HrSec  \\\n",
       "0                            100.00            0.00                    100.00   \n",
       "1                            100.00          100.00                    100.00   \n",
       "2                            100.00            0.00                    100.00   \n",
       "3                             82.05           45.45                     64.11   \n",
       "4                             96.00           75.00                     93.33   \n",
       "\n",
       "   Primary_with_U_Primary_Sec  U_Primary_With_Sec  Sec_Only  Sec_with_HrSec.  \\\n",
       "0                      100.00                0.00      0.00           100.00   \n",
       "1                      100.00                0.00      0.00           100.00   \n",
       "2                      100.00                0.00      0.00           100.00   \n",
       "3                       76.24               60.63     59.26            85.71   \n",
       "4                       91.43               77.99     80.65            60.00   \n",
       "\n",
       "   HrSec_Only  All Schools  \n",
       "0        0.00        94.52  \n",
       "1        0.00       100.00  \n",
       "2        0.00       100.00  \n",
       "3       73.44        56.88  \n",
       "4       86.54        65.34  "
      ]
     },
     "execution_count": 92,
     "metadata": {},
     "output_type": "execute_result"
    }
   ],
   "source": [
    "data = pd.read_csv('schools-with-boys-toilet-2013-2016.csv')\n",
    "data.head()"
   ]
  },
  {
   "cell_type": "code",
   "execution_count": 93,
   "id": "ada2a16f-0973-4d93-a54b-b929af176d31",
   "metadata": {
    "tags": []
   },
   "outputs": [
    {
     "name": "stdout",
     "output_type": "stream",
     "text": [
      "<class 'pandas.core.frame.DataFrame'>\n",
      "RangeIndex: 110 entries, 0 to 109\n",
      "Data columns (total 13 columns):\n",
      " #   Column                            Non-Null Count  Dtype  \n",
      "---  ------                            --------------  -----  \n",
      " 0   State_UT                          110 non-null    object \n",
      " 1   year                              110 non-null    object \n",
      " 2   Primary_Only                      110 non-null    float64\n",
      " 3   Primary_with_U_Primary            110 non-null    float64\n",
      " 4   Primary_with_U_Primary_Sec_HrSec  110 non-null    float64\n",
      " 5   U_Primary_Only                    110 non-null    float64\n",
      " 6   U_Primary_With_Sec_HrSec          110 non-null    float64\n",
      " 7   Primary_with_U_Primary_Sec        110 non-null    float64\n",
      " 8   U_Primary_With_Sec                110 non-null    float64\n",
      " 9   Sec_Only                          110 non-null    float64\n",
      " 10  Sec_with_HrSec.                   110 non-null    float64\n",
      " 11  HrSec_Only                        110 non-null    float64\n",
      " 12  All Schools                       110 non-null    float64\n",
      "dtypes: float64(11), object(2)\n",
      "memory usage: 11.3+ KB\n"
     ]
    }
   ],
   "source": [
    "data.info()"
   ]
  },
  {
   "cell_type": "code",
   "execution_count": 94,
   "id": "eb9e4977-692a-4290-9573-f02d7983656f",
   "metadata": {
    "tags": []
   },
   "outputs": [
    {
     "data": {
      "text/html": [
       "<div>\n",
       "<style scoped>\n",
       "    .dataframe tbody tr th:only-of-type {\n",
       "        vertical-align: middle;\n",
       "    }\n",
       "\n",
       "    .dataframe tbody tr th {\n",
       "        vertical-align: top;\n",
       "    }\n",
       "\n",
       "    .dataframe thead th {\n",
       "        text-align: right;\n",
       "    }\n",
       "</style>\n",
       "<table border=\"1\" class=\"dataframe\">\n",
       "  <thead>\n",
       "    <tr style=\"text-align: right;\">\n",
       "      <th></th>\n",
       "      <th>Primary_Only</th>\n",
       "      <th>Primary_with_U_Primary</th>\n",
       "      <th>Primary_with_U_Primary_Sec_HrSec</th>\n",
       "      <th>U_Primary_Only</th>\n",
       "      <th>U_Primary_With_Sec_HrSec</th>\n",
       "      <th>Primary_with_U_Primary_Sec</th>\n",
       "      <th>U_Primary_With_Sec</th>\n",
       "      <th>Sec_Only</th>\n",
       "      <th>Sec_with_HrSec.</th>\n",
       "      <th>HrSec_Only</th>\n",
       "      <th>All Schools</th>\n",
       "    </tr>\n",
       "  </thead>\n",
       "  <tbody>\n",
       "    <tr>\n",
       "      <th>count</th>\n",
       "      <td>110.000000</td>\n",
       "      <td>110.000000</td>\n",
       "      <td>110.000000</td>\n",
       "      <td>110.000000</td>\n",
       "      <td>110.000000</td>\n",
       "      <td>110.000000</td>\n",
       "      <td>110.000000</td>\n",
       "      <td>110.000000</td>\n",
       "      <td>110.000000</td>\n",
       "      <td>110.000000</td>\n",
       "      <td>110.00000</td>\n",
       "    </tr>\n",
       "    <tr>\n",
       "      <th>mean</th>\n",
       "      <td>90.433636</td>\n",
       "      <td>94.101727</td>\n",
       "      <td>95.777182</td>\n",
       "      <td>82.290182</td>\n",
       "      <td>94.125636</td>\n",
       "      <td>90.543364</td>\n",
       "      <td>77.696455</td>\n",
       "      <td>48.319818</td>\n",
       "      <td>62.387182</td>\n",
       "      <td>58.573636</td>\n",
       "      <td>91.89200</td>\n",
       "    </tr>\n",
       "    <tr>\n",
       "      <th>std</th>\n",
       "      <td>13.312718</td>\n",
       "      <td>9.393651</td>\n",
       "      <td>13.991093</td>\n",
       "      <td>30.076269</td>\n",
       "      <td>17.186642</td>\n",
       "      <td>24.258103</td>\n",
       "      <td>36.588242</td>\n",
       "      <td>46.856429</td>\n",
       "      <td>46.100191</td>\n",
       "      <td>46.833349</td>\n",
       "      <td>11.72697</td>\n",
       "    </tr>\n",
       "    <tr>\n",
       "      <th>min</th>\n",
       "      <td>38.240000</td>\n",
       "      <td>61.170000</td>\n",
       "      <td>0.000000</td>\n",
       "      <td>0.000000</td>\n",
       "      <td>0.000000</td>\n",
       "      <td>0.000000</td>\n",
       "      <td>0.000000</td>\n",
       "      <td>0.000000</td>\n",
       "      <td>0.000000</td>\n",
       "      <td>0.000000</td>\n",
       "      <td>48.73000</td>\n",
       "    </tr>\n",
       "    <tr>\n",
       "      <th>25%</th>\n",
       "      <td>86.567500</td>\n",
       "      <td>93.525000</td>\n",
       "      <td>97.932500</td>\n",
       "      <td>83.382500</td>\n",
       "      <td>96.760000</td>\n",
       "      <td>92.900000</td>\n",
       "      <td>79.887500</td>\n",
       "      <td>0.000000</td>\n",
       "      <td>0.000000</td>\n",
       "      <td>0.000000</td>\n",
       "      <td>89.29000</td>\n",
       "    </tr>\n",
       "    <tr>\n",
       "      <th>50%</th>\n",
       "      <td>96.045000</td>\n",
       "      <td>98.485000</td>\n",
       "      <td>99.620000</td>\n",
       "      <td>95.415000</td>\n",
       "      <td>99.755000</td>\n",
       "      <td>99.305000</td>\n",
       "      <td>96.810000</td>\n",
       "      <td>62.985000</td>\n",
       "      <td>94.455000</td>\n",
       "      <td>87.930000</td>\n",
       "      <td>97.00500</td>\n",
       "    </tr>\n",
       "    <tr>\n",
       "      <th>75%</th>\n",
       "      <td>99.595000</td>\n",
       "      <td>99.857500</td>\n",
       "      <td>100.000000</td>\n",
       "      <td>100.000000</td>\n",
       "      <td>100.000000</td>\n",
       "      <td>99.897500</td>\n",
       "      <td>99.817500</td>\n",
       "      <td>98.970000</td>\n",
       "      <td>100.000000</td>\n",
       "      <td>100.000000</td>\n",
       "      <td>99.63750</td>\n",
       "    </tr>\n",
       "    <tr>\n",
       "      <th>max</th>\n",
       "      <td>100.000000</td>\n",
       "      <td>100.000000</td>\n",
       "      <td>100.000000</td>\n",
       "      <td>100.000000</td>\n",
       "      <td>100.000000</td>\n",
       "      <td>100.000000</td>\n",
       "      <td>100.000000</td>\n",
       "      <td>100.000000</td>\n",
       "      <td>100.000000</td>\n",
       "      <td>100.000000</td>\n",
       "      <td>100.00000</td>\n",
       "    </tr>\n",
       "  </tbody>\n",
       "</table>\n",
       "</div>"
      ],
      "text/plain": [
       "       Primary_Only  Primary_with_U_Primary  Primary_with_U_Primary_Sec_HrSec  \\\n",
       "count    110.000000              110.000000                        110.000000   \n",
       "mean      90.433636               94.101727                         95.777182   \n",
       "std       13.312718                9.393651                         13.991093   \n",
       "min       38.240000               61.170000                          0.000000   \n",
       "25%       86.567500               93.525000                         97.932500   \n",
       "50%       96.045000               98.485000                         99.620000   \n",
       "75%       99.595000               99.857500                        100.000000   \n",
       "max      100.000000              100.000000                        100.000000   \n",
       "\n",
       "       U_Primary_Only  U_Primary_With_Sec_HrSec  Primary_with_U_Primary_Sec  \\\n",
       "count      110.000000                110.000000                  110.000000   \n",
       "mean        82.290182                 94.125636                   90.543364   \n",
       "std         30.076269                 17.186642                   24.258103   \n",
       "min          0.000000                  0.000000                    0.000000   \n",
       "25%         83.382500                 96.760000                   92.900000   \n",
       "50%         95.415000                 99.755000                   99.305000   \n",
       "75%        100.000000                100.000000                   99.897500   \n",
       "max        100.000000                100.000000                  100.000000   \n",
       "\n",
       "       U_Primary_With_Sec    Sec_Only  Sec_with_HrSec.  HrSec_Only  \\\n",
       "count          110.000000  110.000000       110.000000  110.000000   \n",
       "mean            77.696455   48.319818        62.387182   58.573636   \n",
       "std             36.588242   46.856429        46.100191   46.833349   \n",
       "min              0.000000    0.000000         0.000000    0.000000   \n",
       "25%             79.887500    0.000000         0.000000    0.000000   \n",
       "50%             96.810000   62.985000        94.455000   87.930000   \n",
       "75%             99.817500   98.970000       100.000000  100.000000   \n",
       "max            100.000000  100.000000       100.000000  100.000000   \n",
       "\n",
       "       All Schools  \n",
       "count    110.00000  \n",
       "mean      91.89200  \n",
       "std       11.72697  \n",
       "min       48.73000  \n",
       "25%       89.29000  \n",
       "50%       97.00500  \n",
       "75%       99.63750  \n",
       "max      100.00000  "
      ]
     },
     "execution_count": 94,
     "metadata": {},
     "output_type": "execute_result"
    }
   ],
   "source": [
    "data.describe()"
   ]
  },
  {
   "cell_type": "code",
   "execution_count": 95,
   "id": "fefaaa8e-420e-47d6-98fa-7b441cdc9300",
   "metadata": {
    "tags": []
   },
   "outputs": [
    {
     "data": {
      "text/plain": [
       "State_UT                            0\n",
       "year                                0\n",
       "Primary_Only                        0\n",
       "Primary_with_U_Primary              0\n",
       "Primary_with_U_Primary_Sec_HrSec    0\n",
       "U_Primary_Only                      0\n",
       "U_Primary_With_Sec_HrSec            0\n",
       "Primary_with_U_Primary_Sec          0\n",
       "U_Primary_With_Sec                  0\n",
       "Sec_Only                            0\n",
       "Sec_with_HrSec.                     0\n",
       "HrSec_Only                          0\n",
       "All Schools                         0\n",
       "dtype: int64"
      ]
     },
     "execution_count": 95,
     "metadata": {},
     "output_type": "execute_result"
    }
   ],
   "source": [
    "data.isnull().sum()"
   ]
  },
  {
   "cell_type": "code",
   "execution_count": 96,
   "id": "de758eaf-e807-4cbf-b05a-d862d41ee522",
   "metadata": {
    "tags": []
   },
   "outputs": [
    {
     "data": {
      "text/plain": [
       "<BarContainer object of 110 artists>"
      ]
     },
     "execution_count": 96,
     "metadata": {},
     "output_type": "execute_result"
    },
    {
     "data": {
      "image/png": "[encoded data removed]",
      "text/plain": [
       "<Figure size 640x480 with 1 Axes>"
      ]
     },
     "metadata": {},
     "output_type": "display_data"
    }
   ],
   "source": [
    "plt.bar(data['All Schools'], data['year'])"
   ]
  },
  {
   "cell_type": "code",
   "execution_count": 97,
   "id": "4c58ce0f-d100-4721-ac3d-30760aba6c9e",
   "metadata": {
    "tags": []
   },
   "outputs": [
    {
     "data": {
      "text/plain": [
       "Index(['State_UT', 'year', 'Primary_Only', 'Primary_with_U_Primary',\n",
       "       'Primary_with_U_Primary_Sec_HrSec', 'U_Primary_Only',\n",
       "       'U_Primary_With_Sec_HrSec', 'Primary_with_U_Primary_Sec',\n",
       "       'U_Primary_With_Sec', 'Sec_Only', 'Sec_with_HrSec.', 'HrSec_Only',\n",
       "       'All Schools'],\n",
       "      dtype='object')"
      ]
     },
     "execution_count": 97,
     "metadata": {},
     "output_type": "execute_result"
    }
   ],
   "source": [
    "data.columns"
   ]
  },
  {
   "cell_type": "code",
   "execution_count": 98,
   "id": "b8669085-26af-4eec-9b8d-a109a856e8f1",
   "metadata": {
    "tags": []
   },
   "outputs": [],
   "source": [
    "data['Primary_Only']=data['Primary_Only'].values.astype(np.float32)\n",
    "data['U_Primary_Only']=data['U_Primary_Only'].values.astype(np.float32)\n",
    "data['Sec_Only']=data['Sec_Only'].values.astype(np.float32)\n",
    "data['HrSec_Only']=data['HrSec_Only'].values.astype(np.float32)"
   ]
  },
  {
   "cell_type": "code",
   "execution_count": 99,
   "id": "f3518974-ea9a-4452-9fcc-136c3a535e10",
   "metadata": {
    "tags": []
   },
   "outputs": [
    {
     "name": "stdout",
     "output_type": "stream",
     "text": [
      "<class 'pandas.core.frame.DataFrame'>\n",
      "RangeIndex: 110 entries, 0 to 109\n",
      "Data columns (total 13 columns):\n",
      " #   Column                            Non-Null Count  Dtype  \n",
      "---  ------                            --------------  -----  \n",
      " 0   State_UT                          110 non-null    object \n",
      " 1   year                              110 non-null    object \n",
      " 2   Primary_Only                      110 non-null    float32\n",
      " 3   Primary_with_U_Primary            110 non-null    float64\n",
      " 4   Primary_with_U_Primary_Sec_HrSec  110 non-null    float64\n",
      " 5   U_Primary_Only                    110 non-null    float32\n",
      " 6   U_Primary_With_Sec_HrSec          110 non-null    float64\n",
      " 7   Primary_with_U_Primary_Sec        110 non-null    float64\n",
      " 8   U_Primary_With_Sec                110 non-null    float64\n",
      " 9   Sec_Only                          110 non-null    float32\n",
      " 10  Sec_with_HrSec.                   110 non-null    float64\n",
      " 11  HrSec_Only                        110 non-null    float32\n",
      " 12  All Schools                       110 non-null    float64\n",
      "dtypes: float32(4), float64(7), object(2)\n",
      "memory usage: 9.6+ KB\n"
     ]
    }
   ],
   "source": [
    "data.info()"
   ]
  },
  {
   "cell_type": "code",
   "execution_count": 100,
   "id": "89d41268-c8ba-47fd-a85d-cdcfa9a48a6a",
   "metadata": {
    "tags": []
   },
   "outputs": [
    {
     "data": {
      "text/plain": [
       "<AxesSubplot: >"
      ]
     },
     "execution_count": 100,
     "metadata": {},
     "output_type": "execute_result"
    },
    {
     "data": {
      "image/png": "[encoded data removed]",
      "text/plain": [
       "<Figure size 2000x1500 with 4 Axes>"
      ]
     },
     "metadata": {},
     "output_type": "display_data"
    }
   ],
   "source": [
    "plt.figure(figsize= (20,15))\n",
    "plt.subplot(4,4,1)\n",
    "sns.boxplot(data['Primary_Only'])\n",
    "\n",
    "plt.subplot(4,4,2)\n",
    "sns.boxplot(data['U_Primary_Only'])\n",
    "\n",
    "plt.subplot(4,4,3)\n",
    "sns.boxplot(data['Sec_Only'])\n",
    "\n",
    "plt.subplot(4,4,4)\n",
    "sns.boxplot(data['HrSec_Only'])"
   ]
  },
  {
   "cell_type": "code",
   "execution_count": 101,
   "id": "178e5efc-6787-44ef-8417-63a725e853d7",
   "metadata": {
    "tags": []
   },
   "outputs": [],
   "source": [
    "data['Primary_Only']=data['Primary_Only'].clip(lower=data['Primary_Only'].quantile(0.05), upper=data['Primary_Only'].quantile(0.95))\n",
    "\n",
    "data['U_Primary_Only']=data['U_Primary_Only'].clip(lower=data['U_Primary_Only'].quantile(0.05), upper=data['U_Primary_Only'].quantile(0.95))"
   ]
  },
  {
   "cell_type": "code",
   "execution_count": 102,
   "id": "1794d9ba-4339-4204-be1f-11561d7f948d",
   "metadata": {
    "tags": []
   },
   "outputs": [
    {
     "data": {
      "text/plain": [
       "<AxesSubplot: >"
      ]
     },
     "execution_count": 102,
     "metadata": {},
     "output_type": "execute_result"
    },
    {
     "data": {
      "image/png": "[encoded data removed]",
      "text/plain": [
       "<Figure size 2000x1500 with 2 Axes>"
      ]
     },
     "metadata": {},
     "output_type": "display_data"
    }
   ],
   "source": [
    "plt.figure(figsize= (20,15))\n",
    "plt.subplot(4,4,3)\n",
    "sns.boxplot(data['Sec_Only'])\n",
    "\n",
    "plt.subplot(4,4,4)\n",
    "sns.boxplot(data['HrSec_Only'])"
   ]
  },
  {
   "cell_type": "code",
   "execution_count": null,
   "id": "9c93b37b-61fa-43a1-8794-5807757bedb4",
   "metadata": {},
   "outputs": [],
   "source": []
  }
 ],
 "metadata": {
  "kernelspec": {
   "display_name": "Python 3 (ipykernel)",
   "language": "python",
   "name": "python3"
  },
  "language_info": {
   "codemirror_mode": {
    "name": "ipython",
    "version": 3
   },
   "file_extension": ".py",
   "mimetype": "text/x-python",
   "name": "python",
   "nbconvert_exporter": "python",
   "pygments_lexer": "ipython3",
   "version": "3.9.5"
  }
 },
 "nbformat": 4,
 "nbformat_minor": 5
}
